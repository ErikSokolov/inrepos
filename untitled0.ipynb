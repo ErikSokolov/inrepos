{
  "nbformat": 4,
  "nbformat_minor": 0,
  "metadata": {
    "colab": {
      "provenance": [],
      "toc_visible": true,
      "authorship_tag": "ABX9TyN6gTbMVV3WvQe446szfPqa",
      "include_colab_link": true
    },
    "kernelspec": {
      "name": "python3",
      "display_name": "Python 3"
    },
    "language_info": {
      "name": "python"
    }
  },
  "cells": [
    {
      "cell_type": "markdown",
      "metadata": {
        "id": "view-in-github",
        "colab_type": "text"
      },
      "source": [
        "<a href=\"https://colab.research.google.com/github/ErikSokolov/inrepos/blob/main/untitled0.ipynb\" target=\"_parent\"><img src=\"https://colab.research.google.com/assets/colab-badge.svg\" alt=\"Open In Colab\"/></a>"
      ]
    },
    {
      "cell_type": "markdown",
      "source": [
        "#Is this markup?"
      ],
      "metadata": {
        "id": "m6qL3oHIs35o"
      }
    },
    {
      "cell_type": "markdown",
      "source": [
        "Das ist ein Test."
      ],
      "metadata": {
        "id": "dV8EsrqQs4zo"
      }
    }
  ]
}